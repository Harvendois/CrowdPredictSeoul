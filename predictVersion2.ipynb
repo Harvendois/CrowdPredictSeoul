{
 "cells": [
  {
   "cell_type": "code",
   "execution_count": 5,
   "metadata": {},
   "outputs": [
    {
     "name": "stdout",
     "output_type": "stream",
     "text": [
      "2.0.1\n"
     ]
    }
   ],
   "source": [
    "import numpy as np\n",
    "import pandas as pd\n",
    "import matplotlib.pyplot as plt\n",
    "\n",
    "print(pd.__version__)"
   ]
  },
  {
   "cell_type": "code",
   "execution_count": 3,
   "metadata": {},
   "outputs": [
    {
     "ename": "ModuleNotFoundError",
     "evalue": "No module named 'chardet'",
     "output_type": "error",
     "traceback": [
      "\u001b[1;31m---------------------------------------------------------------------------\u001b[0m",
      "\u001b[1;31mModuleNotFoundError\u001b[0m                       Traceback (most recent call last)",
      "Cell \u001b[1;32mIn[3], line 1\u001b[0m\n\u001b[1;32m----> 1\u001b[0m \u001b[39mimport\u001b[39;00m \u001b[39mchardet\u001b[39;00m\n\u001b[0;32m      3\u001b[0m \u001b[39m# Detect the encoding of the file\u001b[39;00m\n\u001b[0;32m      4\u001b[0m \u001b[39mwith\u001b[39;00m \u001b[39mopen\u001b[39m(\u001b[39m'\u001b[39m\u001b[39mdong2.csv\u001b[39m\u001b[39m'\u001b[39m, \u001b[39m'\u001b[39m\u001b[39mrb\u001b[39m\u001b[39m'\u001b[39m) \u001b[39mas\u001b[39;00m f:\n",
      "\u001b[1;31mModuleNotFoundError\u001b[0m: No module named 'chardet'"
     ]
    }
   ],
   "source": [
    "import chardet\n",
    "\n",
    "# Detect the encoding of the file\n",
    "with open('dong2.csv', 'rb') as f:\n",
    "    result = chardet.detect(f.read())\n",
    "\n",
    "print(result['encoding'])\n",
    "\n",
    "# Then use the detected encoding to read the file\n",
    "df2 = pd.read_csv('dong2.csv', delimiter=',', encoding=result['encoding'])"
   ]
  },
  {
   "cell_type": "code",
   "execution_count": 32,
   "metadata": {},
   "outputs": [],
   "source": [
    "# Read the TSV file\n",
    "df = pd.read_csv('dong.csv', delimiter=',', encoding='euc-kr')\n",
    "\n",
    "# Read the 2nd TSV file\n",
    "df2 = pd.read_csv('dong2.csv', delimiter=',', encoding='utf-8')\n",
    "\n",
    "# Append the additional data to the existing data\n",
    "df = pd.concat([df, df2], ignore_index=True)\n",
    "\n",
    "# Select the required columns\n",
    "df = df[['기준일ID', '시간대구분', '총생활인구수', '행정동코드']]\n",
    "\n",
    "# Rename the columns for easier understanding\n",
    "df.rename(columns={\n",
    "    '기준일ID': 'date',\n",
    "    '시간대구분': 'hour',\n",
    "    '총생활인구수': 'total_population',\n",
    "    '행정동코드': 'dong_code'\n",
    "}, inplace=True)\n",
    "\n",
    "# Convert the 'date' column to datetime format\n",
    "df['date'] = pd.to_datetime(df['date'], format='%Y%m%d')\n",
    "\n",
    "# Convert 'date' column to Unix timestamp (int64 first then division)\n",
    "df['date'] = df['date'].astype('int64') // 10**9\n",
    "\n",
    "# Extract the day of the week and create a new column 'DayOfWeek'\n",
    "df['DayOfWeek'] = pd.to_datetime(df['date'], unit='s').dt.day_name()\n",
    "\n",
    "# One-hot encode the 'DayOfWeek' column\n",
    "df = pd.get_dummies(df, columns=['DayOfWeek'])\n",
    "\n",
    "# One-hot encode the 'hour' column\n",
    "df = pd.get_dummies(df, columns=['hour'])\n",
    "\n",
    "# One-hot encode the 'dong_code' column\n",
    "df = pd.get_dummies(df, columns=['dong_code'])\n",
    "\n",
    "# Create a new column 'IsWeekend'\n",
    "df['IsWeekend'] = ((df['DayOfWeek_Saturday'] == 1) | (df['DayOfWeek_Sunday'] == 1)).astype(int)\n",
    "\n",
    "# Convert 'date' column back to datetime format\n",
    "df['date'] = pd.to_datetime(df['date'], unit='s')\n",
    "\n",
    "# Define the specific holidays\n",
    "holidays = ['2023-01-01','2023-01-23','2023-01-24','2023-03-01','2023-05-05', '2023-05-29', '2023-06-06']\n",
    "\n",
    "# Update 'IsWeekend' column to include the holidays\n",
    "df.loc[df['date'].dt.strftime('%Y-%m-%d').isin(holidays), 'IsWeekend'] = 1\n",
    "\n",
    "# Convert 'date' column back to Unix timestamp\n",
    "df['date'] = df['date'].astype('int64') // 10**9\n"
   ]
  },
  {
   "cell_type": "code",
   "execution_count": 33,
   "metadata": {},
   "outputs": [
    {
     "name": "stdout",
     "output_type": "stream",
     "text": [
      "         date  total_population  DayOfWeek_Friday  DayOfWeek_Monday   \n",
      "0  1687996800        15423.2230             False             False  \\\n",
      "1  1687996800        13110.2144             False             False   \n",
      "2  1687996800         3755.5950             False             False   \n",
      "3  1687996800        13896.7643             False             False   \n",
      "4  1687996800        18671.3496             False             False   \n",
      "\n",
      "   DayOfWeek_Saturday  DayOfWeek_Sunday  DayOfWeek_Thursday   \n",
      "0               False             False                True  \\\n",
      "1               False             False                True   \n",
      "2               False             False                True   \n",
      "3               False             False                True   \n",
      "4               False             False                True   \n",
      "\n",
      "   DayOfWeek_Tuesday  DayOfWeek_Wednesday  hour_0  ...  dong_code_11740600   \n",
      "0              False                False    True  ...               False  \\\n",
      "1              False                False    True  ...               False   \n",
      "2              False                False    True  ...               False   \n",
      "3              False                False    True  ...               False   \n",
      "4              False                False    True  ...               False   \n",
      "\n",
      "   dong_code_11740610  dong_code_11740620  dong_code_11740640   \n",
      "0               False               False               False  \\\n",
      "1               False               False               False   \n",
      "2               False               False               False   \n",
      "3               False               False               False   \n",
      "4               False               False               False   \n",
      "\n",
      "   dong_code_11740650  dong_code_11740660  dong_code_11740685   \n",
      "0               False               False               False  \\\n",
      "1               False               False               False   \n",
      "2               False               False               False   \n",
      "3               False               False               False   \n",
      "4               False               False               False   \n",
      "\n",
      "   dong_code_11740690  dong_code_11740700  IsWeekend  \n",
      "0               False               False          0  \n",
      "1               False               False          0  \n",
      "2               False               False          0  \n",
      "3               False               False          0  \n",
      "4               False               False          0  \n",
      "\n",
      "[5 rows x 458 columns]\n",
      "<class 'pandas.core.frame.DataFrame'>\n",
      "RangeIndex: 1831680 entries, 0 to 1831679\n",
      "Columns: 458 entries, date to IsWeekend\n",
      "dtypes: bool(455), float64(1), int32(1), int64(1)\n",
      "memory usage: 829.7 MB\n",
      "None\n",
      "1831680\n"
     ]
    }
   ],
   "source": [
    "print(df.head())\n",
    "print(df.info())\n",
    "print(len(df.index))"
   ]
  },
  {
   "cell_type": "code",
   "execution_count": 34,
   "metadata": {},
   "outputs": [],
   "source": [
    "from sklearn.model_selection import train_test_split\n",
    "\n",
    "# Our target variable is 'total_population'\n",
    "X = df.drop('total_population', axis=1)\n",
    "y = df['total_population']\n",
    "\n",
    "# Split the data into a training set and a test set\n",
    "X_train, X_test, y_train, y_test = train_test_split(X, y, test_size=0.2, random_state=47)\n"
   ]
  },
  {
   "cell_type": "code",
   "execution_count": 35,
   "metadata": {},
   "outputs": [
    {
     "name": "stdout",
     "output_type": "stream",
     "text": [
      "Fitting 3 folds for each of 135 candidates, totalling 405 fits\n"
     ]
    }
   ],
   "source": [
    "from sklearn.model_selection import GridSearchCV\n",
    "from sklearn.tree import DecisionTreeRegressor\n",
    "\n",
    "# Define the parameter grid\n",
    "param_grid = {\n",
    "    'max_depth': [10, 20, 30, 40, 50],\n",
    "     'min_samples_leaf': [3, 4, 5],\n",
    "    'min_samples_split': [8, 10, 12],\n",
    "    'criterion': ['absolute_error','friedman_mse','squared_error']\n",
    "}\n",
    "\n",
    "# Create a base model\n",
    "dt = DecisionTreeRegressor(random_state=47)\n",
    "\n",
    "# Instantiate the grid search model\n",
    "grid_search = GridSearchCV(estimator=dt, param_grid=param_grid, \n",
    "                           cv=3, n_jobs=-1, verbose=2)\n",
    "\n",
    "# Fit the grid search to the data\n",
    "grid_search.fit(X_train, y_train)\n",
    "\n",
    "# Get the best parameters\n",
    "best_params = grid_search.best_params_\n",
    "\n",
    "print(\"Best parameters: \", best_params)"
   ]
  },
  {
   "cell_type": "code",
   "execution_count": 29,
   "metadata": {},
   "outputs": [
    {
     "name": "stdout",
     "output_type": "stream",
     "text": [
      "Mean Squared Error: 31571610.033992548\n",
      "Average MSE with 5-fold cross-validation: 34788283.323277056\n",
      "Mean Absolute Percentage Error: 2.862414224988783%\n",
      "\n",
      "Feature importances:\n",
      "hour_16                0.077393\n",
      "hour_14                0.076705\n",
      "hour_13                0.076067\n",
      "hour_15                0.075589\n",
      "hour_10                0.075450\n",
      "hour_11                0.074455\n",
      "IsWeekend              0.074191\n",
      "hour_12                0.071904\n",
      "hour_9                 0.070707\n",
      "hour_17                0.062349\n",
      "hour_8                 0.050886\n",
      "date                   0.047483\n",
      "hour_18                0.045486\n",
      "hour_19                0.027146\n",
      "hour_7                 0.023272\n",
      "hour_20                0.017172\n",
      "hour_21                0.010792\n",
      "DayOfWeek_Friday       0.010518\n",
      "hour_6                 0.006954\n",
      "hour_22                0.006868\n",
      "DayOfWeek_Sunday       0.005557\n",
      "DayOfWeek_Monday       0.003912\n",
      "hour_23                0.001727\n",
      "DayOfWeek_Thursday     0.001573\n",
      "DayOfWeek_Wednesday    0.001524\n",
      "DayOfWeek_Tuesday      0.001320\n",
      "hour_5                 0.001192\n",
      "DayOfWeek_Saturday     0.000549\n",
      "hour_0                 0.000335\n",
      "hour_4                 0.000329\n",
      "hour_1                 0.000209\n",
      "hour_3                 0.000203\n",
      "hour_2                 0.000183\n",
      "dtype: float64\n"
     ]
    }
   ],
   "source": [
    "from sklearn.model_selection import cross_val_score\n",
    "import numpy as np\n",
    "from sklearn.metrics import mean_squared_error\n",
    "from joblib import dump, load\n",
    "\n",
    "# Train the final model with the best parameters found\n",
    "model = DecisionTreeRegressor(max_depth=best_params['max_depth'], \n",
    "                              criterion=best_params['criterion'])\n",
    "\n",
    "# Train the model using the training data\n",
    "model.fit(X_train, y_train)\n",
    "\n",
    "# Save model\n",
    "dump(model, 'model.joblib')\n",
    "\n",
    "# Make predictions on the test data\n",
    "y_pred = model.predict(X_test)\n",
    "\n",
    "# Calculate the mean squared error of our predictions\n",
    "mse = mean_squared_error(y_test, y_pred)\n",
    "print(f\"Mean Squared Error: {mse}\")\n",
    "\n",
    "# Perform cross-validation\n",
    "scores = cross_val_score(model, X_train, y_train, cv=5, scoring='neg_mean_squared_error')\n",
    "avg_mse = np.mean(-scores)\n",
    "print(f\"Average MSE with 5-fold cross-validation: {avg_mse}\")\n",
    "\n",
    "def mean_absolute_percentage_error(y_true, y_pred): \n",
    "    y_true, y_pred = np.array(y_true), np.array(y_pred)\n",
    "    return np.mean(np.abs((y_true - y_pred) / y_true)) * 100\n",
    "\n",
    "mape = mean_absolute_percentage_error(y_test, y_pred)\n",
    "print(f\"Mean Absolute Percentage Error: {mape}%\")\n",
    "\n",
    "# Print feature importances\n",
    "importances = model.feature_importances_\n",
    "feature_importances = pd.Series(importances, index=X_train.columns).sort_values(ascending=False)\n",
    "print(\"\\nFeature importances:\")\n",
    "print(feature_importances)\n",
    "\n"
   ]
  },
  {
   "cell_type": "code",
   "execution_count": 30,
   "metadata": {},
   "outputs": [
    {
     "name": "stdout",
     "output_type": "stream",
     "text": [
      "Predicted population for the next 24 hours: [array([34713.8528]), array([35913.4222]), array([37023.1308]), array([41683.2557]), array([52981.1075]), array([84004.9762]), array([101906.5143]), array([108714.8055]), array([114138.4549]), array([115486.343]), array([116039.5069]), array([114379.512]), array([112631.0905]), array([109423.6606]), array([98534.5294]), array([73978.7767]), array([57691.1701]), array([49381.8492]), array([44234.5094]), array([41141.1275]), array([36234.7926]), array([35362.2924]), array([35348.7667]), array([34862.9187])]\n"
     ]
    }
   ],
   "source": [
    "import time\n",
    "# Get the feature names from the training data\n",
    "feature_names = X_train.columns.tolist()\n",
    "\n",
    "# Create a list to store the predictions\n",
    "predictions = []\n",
    "\n",
    "\n",
    "# Get the current date and hour\n",
    "current_date = pd.to_datetime(time.time(), unit='s')\n",
    "current_hour = current_date.hour\n",
    "\n",
    "\n",
    "# Create new data points for the next 24 hours\n",
    "for i in range(24):\n",
    "    new_data = pd.Series(index=feature_names)\n",
    "    new_data['date'] = (current_date + pd.DateOffset(hours=i)).strftime('%Y%m%d')\n",
    "    \n",
    "    # Set all hour features to 0\n",
    "    for h in range(24):\n",
    "        new_data['hour_' + str(h)] = 0\n",
    "    new_data['hour_' + str((current_hour + i) % 24)] = 1  # Set the corresponding hour feature to 1\n",
    "\n",
    "    # Set all DayOfWeek features to 0\n",
    "    for dow in ['Monday', 'Tuesday', 'Wednesday', 'Thursday', 'Friday', 'Saturday', 'Sunday']:\n",
    "        new_data['DayOfWeek_' + dow] = 0\n",
    "\n",
    "    # Determine the day of the week\n",
    "    day_of_week = (current_date + pd.DateOffset(hours=i)).day_name()\n",
    "    new_data['DayOfWeek_' + day_of_week] = 1\n",
    "\n",
    "    # Determine whether it's a weekend\n",
    "    new_data['IsWeekend'] = 1 if day_of_week in ['Saturday', 'Sunday'] else 0\n",
    "\n",
    "    # Convert the Series to a DataFrame\n",
    "    new_data_df = new_data.to_frame().transpose()\n",
    "\n",
    "    # Make a prediction for the new data point\n",
    "    new_pred = model.predict(new_data_df)\n",
    "    predictions.append(new_pred)\n",
    "\n",
    "\n",
    "print(f\"Predicted population for the next 24 hours: {predictions}\")\n"
   ]
  },
  {
   "cell_type": "code",
   "execution_count": 31,
   "metadata": {},
   "outputs": [
    {
     "name": "stdout",
     "output_type": "stream",
     "text": [
      "Predicted population for 1 hour(s) ahead: 34714\n",
      "Predicted population for 2 hour(s) ahead: 35914\n",
      "Predicted population for 3 hour(s) ahead: 37024\n",
      "Predicted population for 4 hour(s) ahead: 41684\n",
      "Predicted population for 5 hour(s) ahead: 52982\n",
      "Predicted population for 6 hour(s) ahead: 84005\n",
      "Predicted population for 7 hour(s) ahead: 101907\n",
      "Predicted population for 8 hour(s) ahead: 108715\n",
      "Predicted population for 9 hour(s) ahead: 114139\n",
      "Predicted population for 10 hour(s) ahead: 115487\n",
      "Predicted population for 11 hour(s) ahead: 116040\n",
      "Predicted population for 12 hour(s) ahead: 114380\n",
      "Predicted population for 13 hour(s) ahead: 112632\n",
      "Predicted population for 14 hour(s) ahead: 109424\n",
      "Predicted population for 15 hour(s) ahead: 98535\n",
      "Predicted population for 16 hour(s) ahead: 73979\n",
      "Predicted population for 17 hour(s) ahead: 57692\n",
      "Predicted population for 18 hour(s) ahead: 49382\n",
      "Predicted population for 19 hour(s) ahead: 44235\n",
      "Predicted population for 20 hour(s) ahead: 41142\n",
      "Predicted population for 21 hour(s) ahead: 36235\n",
      "Predicted population for 22 hour(s) ahead: 35363\n",
      "Predicted population for 23 hour(s) ahead: 35349\n",
      "Predicted population for 24 hour(s) ahead: 34863\n"
     ]
    }
   ],
   "source": [
    "import math\n",
    "for index, element in enumerate(predictions):\n",
    "    print(f\"Predicted population for {index + 1} hour(s) ahead: {math.ceil(element[0])}\")\n"
   ]
  }
 ],
 "metadata": {
  "kernelspec": {
   "display_name": "Python 3",
   "language": "python",
   "name": "python3"
  },
  "language_info": {
   "codemirror_mode": {
    "name": "ipython",
    "version": 3
   },
   "file_extension": ".py",
   "mimetype": "text/x-python",
   "name": "python",
   "nbconvert_exporter": "python",
   "pygments_lexer": "ipython3",
   "version": "3.11.2"
  },
  "orig_nbformat": 4
 },
 "nbformat": 4,
 "nbformat_minor": 2
}

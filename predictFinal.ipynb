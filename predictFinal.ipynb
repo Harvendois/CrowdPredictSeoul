{
 "cells": [
  {
   "cell_type": "code",
   "execution_count": 1,
   "metadata": {},
   "outputs": [],
   "source": [
    "import numpy as np\n",
    "import pandas as pd\n",
    "import matplotlib.pyplot as plt\n",
    "from sklearn.model_selection import cross_val_score\n",
    "from sklearn.metrics import mean_squared_error"
   ]
  },
  {
   "cell_type": "code",
   "execution_count": 2,
   "metadata": {},
   "outputs": [
    {
     "name": "stdout",
     "output_type": "stream",
     "text": [
      "Predicted population for the next 72 hours for each 'dong': 424\n"
     ]
    }
   ],
   "source": [
    "import pandas as pd\n",
    "from joblib import load\n",
    "import time\n",
    "\n",
    "def predict_population(predicted_hours):\n",
    "    df_dong_codes = pd.read_csv('dong_codes.csv')\n",
    "    dong_codes = df_dong_codes['dong_code'].tolist()\n",
    "    feature_names = ['date','DayOfWeek_Friday', 'DayOfWeek_Monday', 'DayOfWeek_Saturday', 'DayOfWeek_Sunday', 'DayOfWeek_Thursday', 'DayOfWeek_Tuesday', 'DayOfWeek_Wednesday', 'hour_0', 'hour_1', 'hour_2', 'hour_3', 'hour_4', 'hour_5', 'hour_6', 'hour_7', 'hour_8', 'hour_9', 'hour_10', 'hour_11', 'hour_12', 'hour_13', 'hour_14', 'hour_15', 'hour_16', 'hour_17', 'hour_18', 'hour_19', 'hour_20', 'hour_21', 'hour_22', 'hour_23', 'IsWeekend']\n",
    "    current_date = pd.to_datetime(time.time(), unit='s')\n",
    "    current_date = current_date.tz_localize('UTC').tz_convert('Asia/Seoul')\n",
    "    current_hour = current_date.hour\n",
    "    all_predictions = []\n",
    "\n",
    "    # Iterate over each 'dong' code\n",
    "    for dong_code in dong_codes:\n",
    "\n",
    "        model = load(f'joblib/{dong_code}.joblib')\n",
    "\n",
    "        predictions = []\n",
    "\n",
    "        for i in range(predicted_hours):\n",
    "            new_data = pd.Series(0, index=feature_names)  # Initialize with zeros instead of NaNs\n",
    "            new_data['date'] = (current_date + pd.DateOffset(hours=i)).strftime('%Y%m%d')\n",
    "           \n",
    "            # Set all hour features to 0\n",
    "            for h in range(24):  # Change this to 24\n",
    "                new_data['hour_' + str(h)] = 0\n",
    "            new_data['hour_' + str((current_hour + i) % 24)] = 1  # Change this to 24\n",
    "\n",
    "            # Set all DayOfWeek features to 0\n",
    "            for dow in ['Monday', 'Tuesday', 'Wednesday', 'Thursday', 'Friday', 'Saturday', 'Sunday']:\n",
    "                new_data['DayOfWeek_' + dow] = 0\n",
    "\n",
    "            # Determine the day of the week\n",
    "            day_of_week = (current_date + pd.DateOffset(hours=i)).day_name()\n",
    "            new_data['DayOfWeek_' + day_of_week] = 1\n",
    "\n",
    "            # Determine whether it's a weekend\n",
    "            new_data['IsWeekend'] = 1 if day_of_week in ['Saturday', 'Sunday'] else 0\n",
    "\n",
    "            # Convert the Series to a DataFrame\n",
    "            new_data_df = new_data.to_frame().transpose()\n",
    "\n",
    "            # Make a prediction for the new data point\n",
    "            new_pred = model.predict(new_data_df)\n",
    "            predictions.append(new_pred)\n",
    "\n",
    "        all_predictions.append(predictions)\n",
    "\n",
    "    return all_predictions\n",
    "\n",
    "# Usage\n",
    "predicted_hours = 72\n",
    "all_predictions = predict_population(predicted_hours)\n",
    "print(f\"Predicted population for the next {predicted_hours} hours for each 'dong': {len(all_predictions)}\")\n",
    "\n",
    "import json\n",
    "\n",
    "# Convert the list of lists to a JSON array\n",
    "all_predictions_json = json.dumps(all_predictions)\n",
    "\n",
    "# Now you can send `all_predictions_json` to another server\n"
   ]
  }
 ],
 "metadata": {
  "kernelspec": {
   "display_name": "Python 3",
   "language": "python",
   "name": "python3"
  },
  "language_info": {
   "codemirror_mode": {
    "name": "ipython",
    "version": 3
   },
   "file_extension": ".py",
   "mimetype": "text/x-python",
   "name": "python",
   "nbconvert_exporter": "python",
   "pygments_lexer": "ipython3",
   "version": "3.11.1"
  },
  "orig_nbformat": 4
 },
 "nbformat": 4,
 "nbformat_minor": 2
}
